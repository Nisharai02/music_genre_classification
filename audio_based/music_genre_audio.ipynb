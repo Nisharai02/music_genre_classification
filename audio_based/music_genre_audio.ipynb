{
 "cells": [
  {
   "cell_type": "code",
   "execution_count": 53,
   "metadata": {},
   "outputs": [],
   "source": [
    "import os\n",
    "from python_speech_features import mfcc\n",
    "import scipy.io.wavfile as wav\n",
    "import numpy as np\n",
    "import pickle\n",
    "\n",
    "dataset_dir = \"Dataset/\"\n",
    "i = 0\n",
    "f = open(\"features.dat\",\"wb\")\n",
    "for genre_folder in os.listdir(dataset_dir):\n",
    "  i += 1\n",
    "  if i == 11:\n",
    "    break\n",
    "  for audio_file in os.listdir(dataset_dir+genre_folder):\n",
    "    (sampl_rate,sig) = wav.read(dataset_dir+genre_folder+\"/\"+audio_file)\n",
    "    mfcc_features = mfcc(sig,sampl_rate,winlen=0.020,appendEnergy=False)\n",
    "    covariance_matrix = np.cov(np.matrix.transpose(mfcc_features))\n",
    "    mean = mfcc_features.mean(0)\n",
    "    feature = (mean,covariance_matrix,i)\n",
    "    pickle.dump(feature,f)\n",
    "\n",
    "f.close()"
   ]
  },
  {
   "cell_type": "markdown",
   "metadata": {},
   "source": [
    "Splitting the dataset into training and testing set"
   ]
  },
  {
   "cell_type": "code",
   "execution_count": 54,
   "metadata": {},
   "outputs": [],
   "source": [
    "import random\n",
    "\n",
    "dataset = []\n",
    "with open(\"features.dat\",\"rb\") as f:\n",
    "  while True:\n",
    "    try:\n",
    "      dataset.append(pickle.load(f))\n",
    "    except EOFError:\n",
    "      f.close()\n",
    "      break\n",
    "train_ratio = 0.7\n",
    "total_samples = len(dataset)\n",
    "training_samples = int(train_ratio*total_samples)\n",
    "random.shuffle(dataset)\n",
    "train_set = dataset[:training_samples]\n",
    "test_set = dataset[training_samples:]"
   ]
  },
  {
   "cell_type": "markdown",
   "metadata": {},
   "source": [
    "Defining a function to calculate distance"
   ]
  },
  {
   "cell_type": "code",
   "execution_count": 55,
   "metadata": {},
   "outputs": [],
   "source": [
    "def distance(x1,x2,k):\n",
    "  m1 = x1[0]\n",
    "  m2 = x2[0]\n",
    "  cm1 = x1[1]\n",
    "  cm2 = x2[1]\n",
    "  distance = np.trace(np.dot(np.linalg.inv(cm2),cm1))\n",
    "  distance += (np.dot(np.dot((m2-m1).transpose(), np.linalg.inv(cm2)), m2-m1))\n",
    "  distance += np.log(np.linalg.det(cm2)) - np.log(np.linalg.det(cm1))\n",
    "  distance -= k\n",
    "  return distance"
   ]
  },
  {
   "cell_type": "markdown",
   "metadata": {},
   "source": [
    "Getting k nearest neighbours"
   ]
  },
  {
   "cell_type": "code",
   "execution_count": 56,
   "metadata": {},
   "outputs": [],
   "source": [
    "import operator\n",
    "\n",
    "def k_nearest_neighbours(train_set,x,k):\n",
    "  distances = []\n",
    "  for i in range(len(train_set)):\n",
    "    d = distance(train_set[i],x,k) + distance(x,train_set[i],k)\n",
    "    distances.append((train_set[i][2],d))\n",
    "  distances.sort(key=operator.itemgetter(1))\n",
    "  neighbours = []\n",
    "  for i in range(k):\n",
    "    neighbours.append(distances[i][0])\n",
    "  return neighbours"
   ]
  },
  {
   "cell_type": "markdown",
   "metadata": {},
   "source": [
    "Performing class vote"
   ]
  },
  {
   "cell_type": "code",
   "execution_count": 57,
   "metadata": {},
   "outputs": [],
   "source": [
    "def find_class(neighbours):\n",
    "  class_vote = {}\n",
    "  for i in range(len(neighbours)):\n",
    "    curr_class = neighbours[i]\n",
    "    if curr_class in class_vote:\n",
    "      class_vote[curr_class] += 1\n",
    "    else:\n",
    "      class_vote[curr_class] = 1\n",
    "  final_class = sorted(class_vote.items(),key=operator.itemgetter(1),reverse=True)\n",
    "  return final_class[0][0]"
   ]
  },
  {
   "cell_type": "markdown",
   "metadata": {},
   "source": [
    "Making predictions"
   ]
  },
  {
   "cell_type": "code",
   "execution_count": 58,
   "metadata": {},
   "outputs": [],
   "source": [
    "predictions = []\n",
    "for i in range(len(test_set)):\n",
    "  nbrs = k_nearest_neighbours(train_set,test_set[i],5)\n",
    "  cls = find_class(nbrs)\n",
    "  predictions.append(cls)"
   ]
  },
  {
   "cell_type": "markdown",
   "metadata": {},
   "source": [
    "Getting accuracy"
   ]
  },
  {
   "cell_type": "code",
   "execution_count": 59,
   "metadata": {},
   "outputs": [
    {
     "name": "stdout",
     "output_type": "stream",
     "text": [
      "The accuracy is: 0.6766666666666666\n"
     ]
    }
   ],
   "source": [
    "correct = 0\n",
    "for i in range(len(test_set)):\n",
    "  if test_set[i][-1] == predictions[i]:\n",
    "    correct += 1\n",
    "accuracy = (correct*1.0) / len(test_set)\n",
    "print(f\"The accuracy is: {accuracy}\")"
   ]
  },
  {
   "cell_type": "markdown",
   "metadata": {},
   "source": [
    "Testing the model with audio inputs"
   ]
  },
  {
   "cell_type": "code",
   "execution_count": 71,
   "metadata": {},
   "outputs": [
    {
     "name": "stdout",
     "output_type": "stream",
     "text": [
      "Genre of this audio sample is hiphop\n",
      "Genre of this audio sample is country\n",
      "Genre of this audio sample is jazz\n",
      "Genre of this audio sample is classical\n",
      "Genre of this audio sample is disco\n"
     ]
    }
   ],
   "source": [
    "from collections import defaultdict\n",
    "\n",
    "res = defaultdict(int)\n",
    "path=\"Dataset\"\n",
    "i = 1\n",
    "for folder_name in os.listdir(path):\n",
    "  res[i] = folder_name\n",
    "  i += 1\n",
    "\n",
    "test_inputs = [\"Dataset\\hiphop\\hiphop.00045.wav\",\"Dataset\\country\\country.00096.wav\",\"Dataset\\jazz\\jazz.00058.wav\",\"Dataset\\classical\\classical.00014.wav\",\"Dataset\\disco\\disco.00066.wav\"]\n",
    "\n",
    "for audio_input in test_inputs:\n",
    "  (sr,sig) = wav.read(audio_input)\n",
    "  mfcc_feat = mfcc(sig,sr,winlen=0.020,appendEnergy=False)\n",
    "  cov_mat = np.cov(np.matrix.transpose(mfcc_feat))\n",
    "  mean_mat = mfcc_feat.mean(0)\n",
    "  feat = (mean_mat,cov_mat,0)\n",
    "  pred=find_class(k_nearest_neighbours(dataset,feat,5))\n",
    "  print(f\"Genre of this audio sample is {res[pred]}\")"
   ]
  },
  {
   "cell_type": "markdown",
   "metadata": {},
   "source": []
  }
 ],
 "metadata": {
  "kernelspec": {
   "display_name": "Python 3",
   "language": "python",
   "name": "python3"
  },
  "language_info": {
   "codemirror_mode": {
    "name": "ipython",
    "version": 3
   },
   "file_extension": ".py",
   "mimetype": "text/x-python",
   "name": "python",
   "nbconvert_exporter": "python",
   "pygments_lexer": "ipython3",
   "version": "3.11.0"
  },
  "orig_nbformat": 4
 },
 "nbformat": 4,
 "nbformat_minor": 2
}
